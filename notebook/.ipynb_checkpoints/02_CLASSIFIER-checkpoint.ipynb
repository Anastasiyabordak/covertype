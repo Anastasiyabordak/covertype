{
 "cells": [
  {
   "cell_type": "code",
   "execution_count": 10,
   "metadata": {},
   "outputs": [],
   "source": [
    "import pandas as pd\n",
    "import numpy as np\n",
    "from scipy.spatial.distance import pdist, squareform\n",
    "import gc\n",
    "from sklearn.preprocessing import label_binarize\n",
    "\n",
    "from sklearn.linear_model import LogisticRegression\n",
    "from sklearn.neighbors import KNeighborsClassifier\n",
    "from sklearn.ensemble   import RandomForestClassifier\n",
    "from sklearn.svm import NuSVC\n",
    "from sklearn.preprocessing import MinMaxScaler\n",
    "from sklearn.model_selection import train_test_split\n",
    "from sklearn.pipeline import make_pipeline\n",
    "from sklearn.model_selection import cross_val_score\n",
    "from sklearn.model_selection import cross_validate,cross_val_predict\n",
    "from sklearn.model_selection import ShuffleSplit\n",
    "from sklearn.metrics import make_scorer,classification_report\n",
    "from sklearn.metrics import roc_curve, auc,roc_auc_score\n",
    "from sklearn.model_selection import StratifiedKFold\n",
    "from sklearn.ensemble import  VotingClassifier"
   ]
  },
  {
   "cell_type": "code",
   "execution_count": 2,
   "metadata": {},
   "outputs": [],
   "source": [
    "pd.set_option('display.max_columns',         500)\n",
    "pd.set_option('display.width',       1000)\n",
    "pd.set_option('display.max_colwidth',        -1)"
   ]
  },
  {
   "cell_type": "code",
   "execution_count": 3,
   "metadata": {},
   "outputs": [],
   "source": [
    "df_noohe = pd.read_pickle(\n",
    "  '..\\\\data\\\\no_OHE.pkl'\n",
    ")\n",
    "df_noohe.drop('soil', axis=1, inplace=True)"
   ]
  },
  {
   "cell_type": "code",
   "execution_count": 4,
   "metadata": {},
   "outputs": [
    {
     "data": {
      "text/html": [
       "<div>\n",
       "<style scoped>\n",
       "    .dataframe tbody tr th:only-of-type {\n",
       "        vertical-align: middle;\n",
       "    }\n",
       "\n",
       "    .dataframe tbody tr th {\n",
       "        vertical-align: top;\n",
       "    }\n",
       "\n",
       "    .dataframe thead th {\n",
       "        text-align: right;\n",
       "    }\n",
       "</style>\n",
       "<table border=\"1\" class=\"dataframe\">\n",
       "  <thead>\n",
       "    <tr style=\"text-align: right;\">\n",
       "      <th></th>\n",
       "      <th>elevation</th>\n",
       "      <th>aspect</th>\n",
       "      <th>slope</th>\n",
       "      <th>hor_dist_to_roadway</th>\n",
       "      <th>hor_dist_to_ignition</th>\n",
       "      <th>cover_type</th>\n",
       "      <th>dist_to_hydr</th>\n",
       "      <th>hillshade</th>\n",
       "      <th>wilderness_area</th>\n",
       "      <th>geo_soil</th>\n",
       "      <th>climate_soil</th>\n",
       "    </tr>\n",
       "  </thead>\n",
       "  <tbody>\n",
       "    <tr>\n",
       "      <th>0</th>\n",
       "      <td>2596</td>\n",
       "      <td>51</td>\n",
       "      <td>3</td>\n",
       "      <td>510</td>\n",
       "      <td>6279</td>\n",
       "      <td>5</td>\n",
       "      <td>258.000000</td>\n",
       "      <td>352.943338</td>\n",
       "      <td>rawah</td>\n",
       "      <td>7</td>\n",
       "      <td>7</td>\n",
       "    </tr>\n",
       "    <tr>\n",
       "      <th>1</th>\n",
       "      <td>2590</td>\n",
       "      <td>56</td>\n",
       "      <td>2</td>\n",
       "      <td>390</td>\n",
       "      <td>6225</td>\n",
       "      <td>5</td>\n",
       "      <td>212.084889</td>\n",
       "      <td>355.564340</td>\n",
       "      <td>rawah</td>\n",
       "      <td>7</td>\n",
       "      <td>7</td>\n",
       "    </tr>\n",
       "    <tr>\n",
       "      <th>2</th>\n",
       "      <td>2804</td>\n",
       "      <td>139</td>\n",
       "      <td>9</td>\n",
       "      <td>3180</td>\n",
       "      <td>6121</td>\n",
       "      <td>2</td>\n",
       "      <td>275.769832</td>\n",
       "      <td>360.034721</td>\n",
       "      <td>rawah</td>\n",
       "      <td>4</td>\n",
       "      <td>7</td>\n",
       "    </tr>\n",
       "    <tr>\n",
       "      <th>3</th>\n",
       "      <td>2785</td>\n",
       "      <td>155</td>\n",
       "      <td>18</td>\n",
       "      <td>3090</td>\n",
       "      <td>6211</td>\n",
       "      <td>2</td>\n",
       "      <td>269.235956</td>\n",
       "      <td>358.011173</td>\n",
       "      <td>rawah</td>\n",
       "      <td>7</td>\n",
       "      <td>7</td>\n",
       "    </tr>\n",
       "    <tr>\n",
       "      <th>4</th>\n",
       "      <td>2595</td>\n",
       "      <td>45</td>\n",
       "      <td>2</td>\n",
       "      <td>391</td>\n",
       "      <td>6172</td>\n",
       "      <td>5</td>\n",
       "      <td>153.003268</td>\n",
       "      <td>354.479901</td>\n",
       "      <td>rawah</td>\n",
       "      <td>7</td>\n",
       "      <td>7</td>\n",
       "    </tr>\n",
       "  </tbody>\n",
       "</table>\n",
       "</div>"
      ],
      "text/plain": [
       "   elevation  aspect  slope  hor_dist_to_roadway  hor_dist_to_ignition  cover_type  dist_to_hydr   hillshade wilderness_area geo_soil climate_soil\n",
       "0  2596       51      3      510                  6279                  5           258.000000    352.943338  rawah           7        7          \n",
       "1  2590       56      2      390                  6225                  5           212.084889    355.564340  rawah           7        7          \n",
       "2  2804       139     9      3180                 6121                  2           275.769832    360.034721  rawah           4        7          \n",
       "3  2785       155     18     3090                 6211                  2           269.235956    358.011173  rawah           7        7          \n",
       "4  2595       45      2      391                  6172                  5           153.003268    354.479901  rawah           7        7          "
      ]
     },
     "execution_count": 4,
     "metadata": {},
     "output_type": "execute_result"
    }
   ],
   "source": [
    "df_noohe.head()"
   ]
  },
  {
   "cell_type": "code",
   "execution_count": 13,
   "metadata": {},
   "outputs": [],
   "source": [
    "Classifiers = [\n",
    "    (\"knn\", KNeighborsClassifier(n_neighbors=7)),\n",
    "    (\"logistic\", LogisticRegression(C=1e5, solver='lbfgs', multi_class='multinomial')),\n",
    "    (\"random_forest\", RandomForestClassifier(n_estimators=200, n_jobs=-1,\n",
    "                                             max_depth=12, min_samples_leaf=3, criterion='entropy', random_state=42)),\n",
    "    (\"svc\",NuSVC(nu=0.01, kernel='poly', gamma=0.001,\n",
    "           random_state=42, probability=True))\n",
    "]"
   ]
  },
  {
   "cell_type": "code",
   "execution_count": 7,
   "metadata": {},
   "outputs": [],
   "source": [
    "X = df_noohe.drop(['cover_type','wilderness_area'],axis=1)\n",
    "Y = df_noohe['cover_type']"
   ]
  },
  {
   "cell_type": "code",
   "execution_count": 8,
   "metadata": {
    "scrolled": false
   },
   "outputs": [
    {
     "name": "stderr",
     "output_type": "stream",
     "text": [
      "[Parallel(n_jobs=-1)]: Using backend LokyBackend with 8 concurrent workers.\n",
      "[Parallel(n_jobs=-1)]: Done   2 out of   5 | elapsed:  2.3min remaining:  3.5min\n",
      "[Parallel(n_jobs=-1)]: Done   5 out of   5 | elapsed:  2.5min remaining:    0.0s\n",
      "[Parallel(n_jobs=-1)]: Done   5 out of   5 | elapsed:  2.5min finished\n",
      "c:\\users\\bordaka\\appdata\\local\\programs\\python\\python37\\lib\\site-packages\\sklearn\\metrics\\ranking.py:656: UndefinedMetricWarning: No positive samples in y_true, true positive value should be meaningless\n",
      "  UndefinedMetricWarning)\n"
     ]
    },
    {
     "name": "stdout",
     "output_type": "stream",
     "text": [
      "knn\n",
      "{0: nan, 1: 0.5143248106067271, 2: 0.4480225404073755, 3: 0.5444143071335364, 4: 0.45984626425600716, 5: 0.4768894300408067, 6: 0.46105438706987556, 'micro': 0.5325773466352328}\n"
     ]
    },
    {
     "name": "stderr",
     "output_type": "stream",
     "text": [
      "[Parallel(n_jobs=-1)]: Using backend LokyBackend with 8 concurrent workers.\n",
      "[Parallel(n_jobs=-1)]: Done   2 out of   5 | elapsed:   48.0s remaining:  1.2min\n",
      "[Parallel(n_jobs=-1)]: Done   5 out of   5 | elapsed:   48.9s remaining:    0.0s\n",
      "[Parallel(n_jobs=-1)]: Done   5 out of   5 | elapsed:   48.9s finished\n",
      "c:\\users\\bordaka\\appdata\\local\\programs\\python\\python37\\lib\\site-packages\\sklearn\\metrics\\ranking.py:656: UndefinedMetricWarning: No positive samples in y_true, true positive value should be meaningless\n",
      "  UndefinedMetricWarning)\n"
     ]
    },
    {
     "name": "stdout",
     "output_type": "stream",
     "text": [
      "logistic\n",
      "{0: nan, 1: 0.3364981086788552, 2: 0.6487951913378498, 3: 0.9682074207730627, 4: 0.4033876074775494, 5: 0.718054911868977, 6: 0.08027515860470867, 'micro': 0.557768857821737}\n"
     ]
    },
    {
     "name": "stderr",
     "output_type": "stream",
     "text": [
      "[Parallel(n_jobs=-1)]: Using backend LokyBackend with 8 concurrent workers.\n",
      "[Parallel(n_jobs=-1)]: Done   2 out of   5 | elapsed:  3.5min remaining:  5.2min\n",
      "[Parallel(n_jobs=-1)]: Done   5 out of   5 | elapsed:  3.5min remaining:    0.0s\n",
      "[Parallel(n_jobs=-1)]: Done   5 out of   5 | elapsed:  3.5min finished\n",
      "c:\\users\\bordaka\\appdata\\local\\programs\\python\\python37\\lib\\site-packages\\sklearn\\metrics\\ranking.py:656: UndefinedMetricWarning: No positive samples in y_true, true positive value should be meaningless\n",
      "  UndefinedMetricWarning)\n"
     ]
    },
    {
     "name": "stdout",
     "output_type": "stream",
     "text": [
      "random_forest\n",
      "{0: nan, 1: 0.43953283641737767, 2: 0.6200318932239318, 3: 0.9378765667380552, 4: 0.22193162264819577, 5: 0.7208643972689657, 6: 0.09094398799723283, 'micro': 0.5798648618067721}\n"
     ]
    },
    {
     "name": "stderr",
     "output_type": "stream",
     "text": [
      "[Parallel(n_jobs=-1)]: Using backend LokyBackend with 8 concurrent workers.\n",
      "[Parallel(n_jobs=-1)]: Done   2 out of   5 | elapsed: 31.6min remaining: 47.3min\n",
      "[Parallel(n_jobs=-1)]: Done   5 out of   5 | elapsed: 31.7min remaining:    0.0s\n",
      "[Parallel(n_jobs=-1)]: Done   5 out of   5 | elapsed: 31.7min finished\n",
      "c:\\users\\bordaka\\appdata\\local\\programs\\python\\python37\\lib\\site-packages\\sklearn\\metrics\\ranking.py:656: UndefinedMetricWarning: No positive samples in y_true, true positive value should be meaningless\n",
      "  UndefinedMetricWarning)\n"
     ]
    },
    {
     "name": "stdout",
     "output_type": "stream",
     "text": [
      "svc\n",
      "{0: nan, 1: 0.468841107792054, 2: 0.48287473902258, 3: 0.9495200401523033, 4: 0.8581116375730872, 5: 0.5861780820988723, 6: 0.2778848513449658, 'micro': 0.5115716668893722}\n"
     ]
    }
   ],
   "source": [
    "scoring = {\n",
    "    'f1_micro': 'f1_micro',\n",
    "    'precison_micro': 'precision_micro',\n",
    "    'roc_auc_micro': make_scorer(roc_auc_score, average='micro', needs_proba=True)\n",
    "}\n",
    "y_bin = label_binarize(Y, classes=[0, 1, 2, 3, 4, 5, 6])\n",
    "tpr_all= pd.DataFrame()\n",
    "fpr_all= pd.DataFrame()\n",
    "roc_auc_all = pd.DataFrame()\n",
    "n_classes = 7\n",
    "for clf_name,clf  in Classifiers:\n",
    "    clf = make_pipeline(MinMaxScaler(), clf)\n",
    "#     cv = ShuffleSplit(n_splits=5, test_size=0.4, random_state=42)\n",
    "    cv = StratifiedKFold(n_splits=5, random_state=42)\n",
    "    y_score = cross_val_predict(clf, X,\n",
    "                                Y, cv=cv, verbose=2,\n",
    "                                n_jobs=-1, method='predict_proba')\n",
    "    fpr = dict()\n",
    "    tpr = dict()\n",
    "    roc_auc = dict()\n",
    "    for i in range(n_classes):\n",
    "        fpr[i], tpr[i], _ = roc_curve(y_bin[:, i], y_score[:, i])\n",
    "        roc_auc[i] = auc(fpr[i], tpr[i])\n",
    "\n",
    "    # Compute micro-average ROC curve and ROC area\n",
    "    fpr[\"micro\"], tpr[\"micro\"], _ = roc_curve(y_bin.ravel(), y_score.ravel())\n",
    "    roc_auc[\"micro\"] = auc(fpr[\"micro\"], tpr[\"micro\"])\n",
    "    tpr_all[clf_name] = tpr\n",
    "    fpr_all[clf_name] = fpr\n",
    "    roc_auc_all[clf_name] = roc_auc\n",
    "    print(clf_name)\n",
    "    print(roc_auc)\n",
    "#     print(classification_report(Y, scores))\n",
    "#     print('NAME ', clf_name , ' Scores ',  scores)"
   ]
  },
  {
   "cell_type": "code",
   "execution_count": 14,
   "metadata": {},
   "outputs": [],
   "source": [
    "voting_clf = VotingClassifier(estimators=Classifiers,voting='soft')"
   ]
  },
  {
   "cell_type": "code",
   "execution_count": null,
   "metadata": {},
   "outputs": [
    {
     "name": "stderr",
     "output_type": "stream",
     "text": [
      "[Parallel(n_jobs=-1)]: Using backend LokyBackend with 8 concurrent workers.\n"
     ]
    }
   ],
   "source": [
    "clf = make_pipeline(MinMaxScaler(), voting_clf)\n",
    "#     cv = ShuffleSplit(n_splits=5, test_size=0.4, random_state=42)\n",
    "cv = StratifiedKFold(n_splits=5, random_state=42)\n",
    "y_score = cross_val_predict(clf, X,\n",
    "                                Y, cv=cv, verbose=2,\n",
    "                                n_jobs=-1, method='predict_proba')\n",
    "fpr = dict()\n",
    "tpr = dict()\n",
    "roc_auc = dict()\n",
    "for i in range(n_classes):\n",
    "    fpr[i], tpr[i], _ = roc_curve(y_bin[:, i], y_score[:, i])\n",
    "    roc_auc[i] = auc(fpr[i], tpr[i])\n",
    "\n",
    "    # Compute micro-average ROC curve and ROC area\n",
    "fpr[\"micro\"], tpr[\"micro\"], _ = roc_curve(y_bin.ravel(), y_score.ravel())\n",
    "roc_auc[\"micro\"] = auc(fpr[\"micro\"], tpr[\"micro\"])\n",
    "tpr_all[clf_name] = tpr\n",
    "fpr_all[clf_name] = fpr\n",
    "roc_auc_all[clf_name] = roc_auc\n",
    "print(clf_name)\n",
    "print(roc_auc)"
   ]
  },
  {
   "cell_type": "code",
   "execution_count": null,
   "metadata": {},
   "outputs": [],
   "source": []
  }
 ],
 "metadata": {
  "kernelspec": {
   "display_name": "Python 3",
   "language": "python",
   "name": "python3"
  },
  "language_info": {
   "codemirror_mode": {
    "name": "ipython",
    "version": 3
   },
   "file_extension": ".py",
   "mimetype": "text/x-python",
   "name": "python",
   "nbconvert_exporter": "python",
   "pygments_lexer": "ipython3",
   "version": "3.7.2"
  },
  "toc": {
   "base_numbering": 1,
   "nav_menu": {},
   "number_sections": true,
   "sideBar": true,
   "skip_h1_title": false,
   "title_cell": "Table of Contents",
   "title_sidebar": "Contents",
   "toc_cell": false,
   "toc_position": {},
   "toc_section_display": true,
   "toc_window_display": false
  }
 },
 "nbformat": 4,
 "nbformat_minor": 2
}
